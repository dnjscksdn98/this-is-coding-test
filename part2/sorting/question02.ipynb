{
 "cells": [
  {
   "cell_type": "markdown",
   "metadata": {},
   "source": [
    "### 실전 문제 - 성적이 낮은 순서로 학생 출력하기\n",
    "- 난이도: 하\n",
    "- 풀이 시간: 20분\n",
    "- 시간 제한: 1초\n",
    "- 메모리 제한: 128MB\n",
    "- 180 페이지"
   ]
  },
  {
   "cell_type": "code",
   "execution_count": 1,
   "metadata": {},
   "outputs": [
    {
     "name": "stdout",
     "output_type": "stream",
     "text": [
      "2\n",
      "홍길동 95\n",
      "이순신 77\n",
      "이순신 홍길동 "
     ]
    }
   ],
   "source": [
    "n = int(input())\n",
    "students = []\n",
    "for _ in range(n):\n",
    "    students.append(list(input().split()))\n",
    "    \n",
    "students.sort(key = lambda x: x[1])\n",
    "for name, score in students:\n",
    "    print(name, end = ' ')"
   ]
  }
 ],
 "metadata": {
  "kernelspec": {
   "display_name": "Python 3",
   "language": "python",
   "name": "python3"
  },
  "language_info": {
   "codemirror_mode": {
    "name": "ipython",
    "version": 3
   },
   "file_extension": ".py",
   "mimetype": "text/x-python",
   "name": "python",
   "nbconvert_exporter": "python",
   "pygments_lexer": "ipython3",
   "version": "3.8.1"
  }
 },
 "nbformat": 4,
 "nbformat_minor": 4
}
