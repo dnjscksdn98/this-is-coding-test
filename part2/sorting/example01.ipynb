{
 "cells": [
  {
   "cell_type": "markdown",
   "metadata": {},
   "source": [
    "### 버블 정렬\n",
    "- 시간 복잡도: $O(N^2)$"
   ]
  },
  {
   "cell_type": "code",
   "execution_count": 1,
   "metadata": {},
   "outputs": [],
   "source": [
    "import random\n",
    "\n",
    "data_list = random.sample(range(100), 50)"
   ]
  },
  {
   "cell_type": "code",
   "execution_count": 2,
   "metadata": {},
   "outputs": [
    {
     "name": "stdout",
     "output_type": "stream",
     "text": [
      "[0, 2, 6, 7, 11, 12, 14, 20, 21, 23, 24, 25, 27, 30, 31, 34, 35, 36, 38, 40, 41, 43, 44, 47, 50, 52, 54, 56, 60, 62, 63, 64, 65, 66, 69, 71, 75, 76, 78, 79, 81, 83, 88, 89, 90, 92, 93, 95, 97, 98]\n"
     ]
    }
   ],
   "source": [
    "def bubble_sort(data):\n",
    "    for i in range(len(data) - 1):\n",
    "        swap = False\n",
    "        for j in range(len(data) - i - 1):\n",
    "            if data[j] > data[j + 1]:\n",
    "                data[j], data[j + 1] = data[j + 1], data[j]\n",
    "                swap = True\n",
    "        \n",
    "        if not swap:\n",
    "            break\n",
    "    \n",
    "    return data\n",
    "\n",
    "print(bubble_sort(data_list))"
   ]
  },
  {
   "cell_type": "markdown",
   "metadata": {},
   "source": [
    "### 삽입 정렬\n",
    "- 시간 복잡도: $O(N^2)$\n",
    "- 최선의 경우: $O(N)$ == 데이터가 이미 거의 정렬되어 있거나 정렬되어 있는 경우"
   ]
  },
  {
   "cell_type": "code",
   "execution_count": 5,
   "metadata": {},
   "outputs": [
    {
     "name": "stdout",
     "output_type": "stream",
     "text": [
      "[0, 1, 2, 5, 6, 7, 8, 10, 12, 13, 14, 15, 16, 17, 18, 21, 22, 23, 27, 28, 30, 31, 32, 33, 35, 36, 41, 42, 45, 48, 50, 52, 54, 61, 65, 68, 72, 73, 75, 76, 77, 80, 83, 85, 86, 88, 90, 96, 97, 98]\n"
     ]
    }
   ],
   "source": [
    "data_list = random.sample(range(100), 50)\n",
    "\n",
    "def insertion_sort(data):\n",
    "    for i in range(len(data) - 1):\n",
    "        for j in range(i + 1, 0, -1):\n",
    "            if data[j] < data[j - 1]:\n",
    "                data[j], data[j - 1] = data[j - 1], data[j]\n",
    "            else:\n",
    "                break\n",
    "                \n",
    "    return data\n",
    "\n",
    "print(insertion_sort(data_list))"
   ]
  },
  {
   "cell_type": "markdown",
   "metadata": {},
   "source": [
    "### 선택 정렬\n",
    "- 시간 복잡도: $O(N^2)$"
   ]
  },
  {
   "cell_type": "code",
   "execution_count": 6,
   "metadata": {},
   "outputs": [
    {
     "name": "stdout",
     "output_type": "stream",
     "text": [
      "[0, 1, 3, 7, 8, 10, 11, 12, 13, 20, 22, 23, 26, 27, 28, 29, 30, 33, 34, 35, 36, 37, 38, 40, 42, 43, 46, 49, 52, 54, 55, 58, 60, 63, 64, 65, 66, 70, 71, 72, 76, 78, 79, 84, 85, 89, 90, 96, 97, 98]\n"
     ]
    }
   ],
   "source": [
    "data_list = random.sample(range(100), 50)\n",
    "\n",
    "def selection_sort(data):\n",
    "    for i in range(len(data) - 1):\n",
    "        min_idx = i\n",
    "        for j in range(i + 1, len(data)):\n",
    "            if data[min_idx] > data[j]:\n",
    "                min_idx = j\n",
    "        data[i], data[min_idx] = data[min_idx], data[i]\n",
    "        \n",
    "    return data\n",
    "\n",
    "print(selection_sort(data_list))"
   ]
  },
  {
   "cell_type": "markdown",
   "metadata": {},
   "source": [
    "### 퀵 정렬\n",
    "- 시간 복잡도: $O(NlogN)$\n",
    "- 최악의 경우: $O(N^2)$ == 데이터가 이미 거의 정렬되어 있거나 정렬되어 있는 경우(삽입 정렬과 반대)"
   ]
  },
  {
   "cell_type": "code",
   "execution_count": 8,
   "metadata": {},
   "outputs": [
    {
     "name": "stdout",
     "output_type": "stream",
     "text": [
      "[1, 2, 4, 5, 6, 12, 15, 16, 17, 18, 20, 21, 22, 23, 24, 25, 30, 31, 33, 34, 35, 36, 37, 39, 40, 41, 44, 46, 47, 53, 60, 63, 64, 65, 66, 67, 68, 69, 70, 73, 75, 78, 85, 87, 89, 91, 93, 94, 95, 96]\n"
     ]
    }
   ],
   "source": [
    "data_list = random.sample(range(100), 50)\n",
    "\n",
    "def quick_sort(data):\n",
    "    if len(data) <= 1:\n",
    "        return data\n",
    "    \n",
    "    pivot = data[0]\n",
    "    left = [item for item in data[1:] if item < pivot]\n",
    "    right = [item for item in data[1:] if item >= pivot]\n",
    "    \n",
    "    return quick_sort(left) + [pivot] + quick_sort(right)\n",
    "\n",
    "print(quick_sort(data_list))"
   ]
  },
  {
   "cell_type": "markdown",
   "metadata": {},
   "source": [
    "### 합병 정렬\n",
    "- 시간 복잡도: $O(NlogN)$\n",
    "- 최악의 경우에도 $O(NlogN)$"
   ]
  },
  {
   "cell_type": "code",
   "execution_count": 9,
   "metadata": {},
   "outputs": [
    {
     "name": "stdout",
     "output_type": "stream",
     "text": [
      "[2, 4, 5, 8, 9, 10, 11, 12, 13, 16, 19, 20, 21, 22, 25, 26, 27, 28, 29, 32, 33, 34, 35, 41, 45, 49, 50, 51, 58, 59, 60, 61, 63, 65, 67, 68, 70, 73, 74, 75, 80, 81, 83, 88, 89, 91, 92, 93, 97, 99]\n"
     ]
    }
   ],
   "source": [
    "def merge_sort(data):\n",
    "    if len(data) <= 1:\n",
    "        return data\n",
    "    \n",
    "    mid = len(data) // 2\n",
    "    left = data[:mid]\n",
    "    right = data[mid:]\n",
    "    \n",
    "    return merge(merge_sort(left), merge_sort(right))\n",
    "\n",
    "def merge(left, right):\n",
    "    merge_list = []\n",
    "    left_idx, right_idx = 0, 0\n",
    "    \n",
    "    while len(left) > left_idx and len(right) > right_idx:\n",
    "        if left[left_idx] > right[right_idx]:\n",
    "            merge_list.append(right[right_idx])\n",
    "            right_idx += 1\n",
    "        \n",
    "        else:\n",
    "            merge_list.append(left[left_idx])\n",
    "            left_idx += 1\n",
    "            \n",
    "    while len(left) > left_idx:\n",
    "        merge_list.append(left[left_idx])\n",
    "        left_idx += 1\n",
    "        \n",
    "    while len(right) > right_idx:\n",
    "        merge_list.append(right[right_idx])\n",
    "        right_idx += 1\n",
    "        \n",
    "    return merge_list\n",
    "\n",
    "data_list = random.sample(range(100), 50)\n",
    "print(merge_sort(data_list))"
   ]
  },
  {
   "cell_type": "markdown",
   "metadata": {},
   "source": [
    "### 계수 정렬"
   ]
  },
  {
   "cell_type": "code",
   "execution_count": 10,
   "metadata": {},
   "outputs": [
    {
     "name": "stdout",
     "output_type": "stream",
     "text": [
      "0 2 4 5 6 7 8 9 13 15 20 21 22 23 24 28 29 31 32 33 34 39 42 44 45 49 50 54 55 58 60 62 65 66 67 69 71 74 77 78 81 83 84 85 86 89 92 93 95 98 "
     ]
    }
   ],
   "source": [
    "def count_sort(data):\n",
    "    array = [0] * 101\n",
    "    \n",
    "    for i in range(len(data)):\n",
    "        array[data[i]] += 1\n",
    "        \n",
    "    for i in range(len(array)):\n",
    "        for j in range(array[i]):\n",
    "            print(i, end = ' ')\n",
    "            \n",
    "data_list = random.sample(range(100), 50)\n",
    "count_sort(data_list)"
   ]
  }
 ],
 "metadata": {
  "kernelspec": {
   "display_name": "Python 3",
   "language": "python",
   "name": "python3"
  },
  "language_info": {
   "codemirror_mode": {
    "name": "ipython",
    "version": 3
   },
   "file_extension": ".py",
   "mimetype": "text/x-python",
   "name": "python",
   "nbconvert_exporter": "python",
   "pygments_lexer": "ipython3",
   "version": "3.8.1"
  }
 },
 "nbformat": 4,
 "nbformat_minor": 4
}
