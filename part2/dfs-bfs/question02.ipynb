{
 "cells": [
  {
   "cell_type": "markdown",
   "metadata": {},
   "source": [
    "### 실전 문제 - 미로 탈출\n",
    "- 난이도: 중하\n",
    "- 풀이 시간: 30분\n",
    "- 시간 제한: 1초\n",
    "- 메모리 제한: 128MB\n",
    "- 152 페이지"
   ]
  },
  {
   "cell_type": "code",
   "execution_count": 9,
   "metadata": {},
   "outputs": [],
   "source": [
    "from collections import deque\n",
    "\n",
    "def bfs(x, y):\n",
    "    need_visit = deque([(x, y)])\n",
    "    steps = [(-1, 0), (1, 0), (0, -1), (0, 1)]\n",
    "    \n",
    "    while need_visit:\n",
    "        current_x, current_y = need_visit.popleft()\n",
    "        current_distance = maze[current_x][current_y]\n",
    "        \n",
    "        for dx, dy in steps:\n",
    "            nx, ny = current_x + dx, current_y + dy\n",
    "\n",
    "            if nx < 0 or ny < 0 or nx >= n or ny >= m:\n",
    "                continue\n",
    "                \n",
    "            if maze[nx][ny] == 0:\n",
    "                continue\n",
    "\n",
    "            if maze[nx][ny] == 1:\n",
    "                maze[nx][ny] = current_distance + 1\n",
    "                need_visit.append((nx, ny))\n",
    "\n",
    "    return maze[n - 1][m - 1]"
   ]
  },
  {
   "cell_type": "code",
   "execution_count": 10,
   "metadata": {},
   "outputs": [
    {
     "name": "stdout",
     "output_type": "stream",
     "text": [
      "5 6\n",
      "101010\n",
      "111111\n",
      "000001\n",
      "111111\n",
      "111111\n"
     ]
    }
   ],
   "source": [
    "n, m = map(int, input().split())\n",
    "maze = []\n",
    "for _ in range(n):\n",
    "    maze.append(list(map(int, input())))"
   ]
  },
  {
   "cell_type": "code",
   "execution_count": 11,
   "metadata": {},
   "outputs": [
    {
     "name": "stdout",
     "output_type": "stream",
     "text": [
      "10\n"
     ]
    }
   ],
   "source": [
    "print(bfs(0, 0))"
   ]
  }
 ],
 "metadata": {
  "kernelspec": {
   "display_name": "Python 3",
   "language": "python",
   "name": "python3"
  },
  "language_info": {
   "codemirror_mode": {
    "name": "ipython",
    "version": 3
   },
   "file_extension": ".py",
   "mimetype": "text/x-python",
   "name": "python",
   "nbconvert_exporter": "python",
   "pygments_lexer": "ipython3",
   "version": "3.8.1"
  }
 },
 "nbformat": 4,
 "nbformat_minor": 4
}
