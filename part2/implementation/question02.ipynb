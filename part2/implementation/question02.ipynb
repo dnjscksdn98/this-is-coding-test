{
 "cells": [
  {
   "cell_type": "markdown",
   "metadata": {},
   "source": [
    "### 실전 문제 - 게임 개발\n",
    "- 난이도: 중\n",
    "- 시간 제한: 1초\n",
    "- 메모리 제한: 128MB\n",
    "- 118 페이지"
   ]
  },
  {
   "cell_type": "code",
   "execution_count": 10,
   "metadata": {},
   "outputs": [
    {
     "name": "stdout",
     "output_type": "stream",
     "text": [
      "4 4\n",
      "1 1 0\n",
      "1 1 1 1\n",
      "1 0 0 1\n",
      "1 1 0 1\n",
      "1 1 1 1\n",
      "3\n"
     ]
    }
   ],
   "source": [
    "n, m = map(int, input().split())\n",
    "x, y, d = map(int, input().split())\n",
    "array = [list(map(int, input().split())) for _ in range(n)]\n",
    "\n",
    "# 북 동 남 서\n",
    "steps = [(-1, 0), (0, 1), (1, 0), (-1, 0)]\n",
    "result = 1\n",
    "stucked = 0\n",
    "\n",
    "def turn_left(d):\n",
    "    if d == 0:\n",
    "        return 3\n",
    "    else:\n",
    "        return d - 1\n",
    "\n",
    "# def go_back(d):\n",
    "#     if d <= 1:\n",
    "#         return d + 2\n",
    "#     else:\n",
    "#         return d - 2\n",
    "    \n",
    "while stucked != 4:\n",
    "    d = turn_left(d)\n",
    "        \n",
    "    for idx in range(len(steps)):\n",
    "        if d == idx:\n",
    "            nx, ny = x + steps[idx][0], y + steps[idx][1]\n",
    "            break\n",
    "                \n",
    "    if array[ny][nx] == 1 or nx < 0 or ny < 0 or nx > n -1 or ny > m -1:\n",
    "        stucked += 1\n",
    "        continue\n",
    "        \n",
    "#     굳이?\n",
    "#     if stucked == 4:\n",
    "#         back_direction = go_back(d)\n",
    "#         nx, ny = x + steps[back_direction][0], y + steps[back_direction][1]\n",
    "        \n",
    "#         if array[ny][nx] == 1 or nx < 0 or ny < 0 or nx > n -1 or ny > m -1:\n",
    "#             continue\n",
    "        \n",
    "#         x, y = nx, ny\n",
    "#         stucked = 0\n",
    "        \n",
    "    x, y = nx, ny\n",
    "    array[y][x] = 1\n",
    "    result += 1\n",
    "    stucked = 0\n",
    "    \n",
    "print(result)"
   ]
  }
 ],
 "metadata": {
  "kernelspec": {
   "display_name": "Python 3",
   "language": "python",
   "name": "python3"
  },
  "language_info": {
   "codemirror_mode": {
    "name": "ipython",
    "version": 3
   },
   "file_extension": ".py",
   "mimetype": "text/x-python",
   "name": "python",
   "nbconvert_exporter": "python",
   "pygments_lexer": "ipython3",
   "version": "3.8.1"
  }
 },
 "nbformat": 4,
 "nbformat_minor": 4
}
