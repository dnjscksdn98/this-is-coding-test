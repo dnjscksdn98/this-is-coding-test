{
 "cells": [
  {
   "cell_type": "markdown",
   "metadata": {},
   "source": [
    "### 실전 문제 - 완실의 나이트\n",
    "- 난이도: 하\n",
    "- 시간 제한: 1초\n",
    "- 메모리 제한: 128MB\n",
    "- 115 페이지"
   ]
  },
  {
   "cell_type": "code",
   "execution_count": 9,
   "metadata": {},
   "outputs": [
    {
     "name": "stdout",
     "output_type": "stream",
     "text": [
      "a1\n",
      "2\n"
     ]
    }
   ],
   "source": [
    "start = input()\n",
    "x = int(ord(start[0])) - int(ord('a')) + 1\n",
    "y = int(start[1])\n",
    "        \n",
    "steps = [\n",
    "    (-1, -2), (1, -2), (2, -1), (2, 1),\n",
    "    (-1, 2), (1, 2), (-2, -1), (-2, 1)\n",
    "]\n",
    "\n",
    "result = 0\n",
    "for dx, dy in steps:\n",
    "    nx, ny = x + dx, y + dy\n",
    "    \n",
    "    if nx < 1 or ny < 1 or nx > 8 or ny > 8:\n",
    "        continue\n",
    "        \n",
    "    result += 1\n",
    "\n",
    "print(result)"
   ]
  }
 ],
 "metadata": {
  "kernelspec": {
   "display_name": "Python 3",
   "language": "python",
   "name": "python3"
  },
  "language_info": {
   "codemirror_mode": {
    "name": "ipython",
    "version": 3
   },
   "file_extension": ".py",
   "mimetype": "text/x-python",
   "name": "python",
   "nbconvert_exporter": "python",
   "pygments_lexer": "ipython3",
   "version": "3.8.1"
  }
 },
 "nbformat": 4,
 "nbformat_minor": 4
}
