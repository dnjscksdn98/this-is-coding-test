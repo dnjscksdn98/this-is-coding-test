{
 "cells": [
  {
   "cell_type": "markdown",
   "metadata": {},
   "source": [
    "### 실전 문제 2 - 떡볶이 떡 만들기\n",
    "- 난이도: 중\n",
    "- 풀이 시간: 40분\n",
    "- 시간 제한: 2초\n",
    "- 메모리 제한: 128MB\n",
    "- 201 페이지"
   ]
  },
  {
   "cell_type": "code",
   "execution_count": 4,
   "metadata": {},
   "outputs": [
    {
     "name": "stdout",
     "output_type": "stream",
     "text": [
      "4 6\n",
      "19 15 10 17\n",
      "15\n"
     ]
    }
   ],
   "source": [
    "def binary_search(array, start, end):\n",
    "    result = 0\n",
    "    \n",
    "    while start <= end:\n",
    "        total = 0\n",
    "        mid = (start + end) // 2\n",
    "        \n",
    "        for target in array:\n",
    "            if target > mid:\n",
    "                total += target - mid\n",
    "            \n",
    "        if total < m:\n",
    "            end = mid - 1\n",
    "        \n",
    "        else:\n",
    "            result = mid\n",
    "            start = mid + 1\n",
    "            \n",
    "    return result\n",
    "        \n",
    "\n",
    "n, m = map(int, input().split())\n",
    "x = list(map(int, input().split()))\n",
    "\n",
    "start = 0\n",
    "end = max(x)\n",
    "\n",
    "print(binary_search(x, start, end))"
   ]
  }
 ],
 "metadata": {
  "kernelspec": {
   "display_name": "Python 3",
   "language": "python",
   "name": "python3"
  },
  "language_info": {
   "codemirror_mode": {
    "name": "ipython",
    "version": 3
   },
   "file_extension": ".py",
   "mimetype": "text/x-python",
   "name": "python",
   "nbconvert_exporter": "python",
   "pygments_lexer": "ipython3",
   "version": "3.8.1"
  }
 },
 "nbformat": 4,
 "nbformat_minor": 4
}
