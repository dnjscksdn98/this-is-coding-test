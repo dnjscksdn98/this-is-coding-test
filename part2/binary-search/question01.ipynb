{
 "cells": [
  {
   "cell_type": "markdown",
   "metadata": {},
   "source": [
    "### 실전 문제 1 - 부품 찾기\n",
    "- 난이도: 중하\n",
    "- 풀이 시간: 30분\n",
    "- 시간 제한: 1초\n",
    "- 메모리 제한: 128MB\n",
    "- 197 페이지"
   ]
  },
  {
   "cell_type": "code",
   "execution_count": 1,
   "metadata": {},
   "outputs": [
    {
     "name": "stdout",
     "output_type": "stream",
     "text": [
      "5\n",
      "8 3 7 9 2\n",
      "3\n",
      "5 7 9\n"
     ]
    }
   ],
   "source": [
    "n = int(input())\n",
    "x = list(map(int, input().split()))\n",
    "\n",
    "m = int(input())\n",
    "y = list(map(int, input().split()))"
   ]
  },
  {
   "cell_type": "markdown",
   "metadata": {},
   "source": [
    "**재귀 호출 구현**"
   ]
  },
  {
   "cell_type": "code",
   "execution_count": 4,
   "metadata": {},
   "outputs": [
    {
     "name": "stdout",
     "output_type": "stream",
     "text": [
      "no yes yes "
     ]
    }
   ],
   "source": [
    "# 이진 탐색 시간 복잡도 - O(M x logN)\n",
    "def binary_search(array, target, start, end):\n",
    "    if start > end:\n",
    "        return 'no'\n",
    "    \n",
    "    mid = (start + end) // 2\n",
    "    \n",
    "    if array[mid] == target:\n",
    "        return 'yes'\n",
    "    \n",
    "    elif array[mid] > target:\n",
    "        return binary_search(array, target, start, mid - 1)\n",
    "    \n",
    "    else:\n",
    "        return binary_search(array, target, mid + 1, end)\n",
    "\n",
    "x.sort()  # 정렬 시간 복잡도 - O(N x logN)\n",
    "for target in y:\n",
    "    print(binary_search(x, target, 0, len(x) - 1), end = ' ')\n",
    "    \n",
    "# 총 시간 복잡도 - O((M + N) x logN)"
   ]
  },
  {
   "cell_type": "markdown",
   "metadata": {},
   "source": [
    "**반복문 구현**"
   ]
  },
  {
   "cell_type": "code",
   "execution_count": 5,
   "metadata": {},
   "outputs": [
    {
     "name": "stdout",
     "output_type": "stream",
     "text": [
      "no yes yes "
     ]
    }
   ],
   "source": [
    "def binary_search_loop(array, target, start, end):\n",
    "    \n",
    "    while start <= end:\n",
    "        mid = (start + end) // 2\n",
    "        \n",
    "        if array[mid] == target:\n",
    "            return mid\n",
    "        \n",
    "        elif array[mid] > target:\n",
    "            end = mid - 1\n",
    "            \n",
    "        else:\n",
    "            start = mid + 1\n",
    "    \n",
    "    return None\n",
    "\n",
    "x.sort()\n",
    "for target in y:\n",
    "    result = binary_search_loop(x, target, 0, n - 1)\n",
    "    \n",
    "    if result == None:\n",
    "        print('no', end = ' ')\n",
    "        \n",
    "    else:\n",
    "        print('yes', end = ' ')"
   ]
  },
  {
   "cell_type": "markdown",
   "metadata": {},
   "source": [
    "**계수 정렬 구현**"
   ]
  },
  {
   "cell_type": "code",
   "execution_count": 6,
   "metadata": {},
   "outputs": [
    {
     "name": "stdout",
     "output_type": "stream",
     "text": [
      "5\n",
      "8 3 7 9 2\n",
      "3\n",
      "5 7 9\n",
      "no yes yes "
     ]
    }
   ],
   "source": [
    "n = int(input())\n",
    "x = [0] * 1000000\n",
    "\n",
    "for i in input().split():\n",
    "    x[int(i)] = 1\n",
    "    \n",
    "m = int(input())\n",
    "y = list(map(int, input().split()))\n",
    "\n",
    "for target in y:\n",
    "    if x[target] == 1:\n",
    "        print('yes', end = ' ')\n",
    "    \n",
    "    else:\n",
    "        print('no', end = ' ')"
   ]
  },
  {
   "cell_type": "markdown",
   "metadata": {},
   "source": [
    "**set() 함수 구현**"
   ]
  },
  {
   "cell_type": "code",
   "execution_count": 7,
   "metadata": {},
   "outputs": [
    {
     "name": "stdout",
     "output_type": "stream",
     "text": [
      "5\n",
      "8 3 7 9 2\n",
      "3\n",
      "5 7 9\n",
      "no yes yes "
     ]
    }
   ],
   "source": [
    "n = int(input())\n",
    "x = set(map(int, input().split()))\n",
    "\n",
    "m = int(input())\n",
    "y = list(map(int, input().split()))\n",
    "\n",
    "for target in y:\n",
    "    if target in x:\n",
    "        print('yes', end = ' ')\n",
    "    \n",
    "    else:\n",
    "        print('no', end = ' ')"
   ]
  }
 ],
 "metadata": {
  "kernelspec": {
   "display_name": "Python 3",
   "language": "python",
   "name": "python3"
  },
  "language_info": {
   "codemirror_mode": {
    "name": "ipython",
    "version": 3
   },
   "file_extension": ".py",
   "mimetype": "text/x-python",
   "name": "python",
   "nbconvert_exporter": "python",
   "pygments_lexer": "ipython3",
   "version": "3.8.1"
  }
 },
 "nbformat": 4,
 "nbformat_minor": 4
}
